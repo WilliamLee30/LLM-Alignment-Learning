{
 "cells": [
  {
   "cell_type": "markdown",
   "metadata": {},
   "source": [
    "# 1.代理目标函数的解释\n",
    "## 1.1 数学符号的介绍\n",
    "### 1.1.1 数学期望 $\\mathbb{E}$\n",
    "(1)概念：一个随机变量的期望（或者期望值）指的是其概率分布集中趋势的一种度量。\n",
    "\n",
    "(2)数学原理：\n",
    "![](./images/数学期望的数学原理.png)\n",
    "\n",
    "(3)期望的性质：\n",
    "线性、非负性（如果随机变量非负）、独立性（如果随机变量是互相独立的）。注意后两个性质是有前提条件的。\n",
    "![](./images/数学期望的性质.png)\n",
    "\n",
    "(4)数学期望在RL中的应用：\n",
    "主要用于评估plicy的性能。\n",
    "![](./images/数学期望在RL中的应用.png)\n",
    "\n",
    "### 1.1.2 优势函数 Advantage Function\n",
    "（1）概念：\n",
    "通过量化在特定状态下采取某个行动的相对质量，与在该状态下所有可能行动的平均预期质量之间的差距，来帮助提高策略优化过程中的稳定性和效率。\n",
    "\n",
    "（2）数学原理\n",
    "![](./images/优势函数的数学原理.png)\n",
    "\n",
    "（3）优势函数的性质\n",
    "相对比较、泛华性、信号可解释性。\n",
    "![](./images/数学期望的性质.png)\n",
    "\n",
    "（4）优势函数的RL应用\n",
    "![](./images/优势函数的应用_1.png)\n",
    "![](./images/优势函数的应用_2.png)\n",
    "![](./images/优势函数的应用_3.png)\n",
    "\n",
    "### 1.1.3 KL散度 Kullback-Leibler(KL) divergence\n",
    "（1）概念：KL散度主要用于量化两个概率分布之间的差异。\n",
    "\n",
    "（2）数学原理：\n",
    "分为离散分布和连续分布两种情况。\n",
    "![](./images/KL散度的数学原理.png)\n",
    "\n",
    "特殊情况：\n",
    "![](./images/KL散度的特殊计算情况.png)\n",
    "\n",
    "（3）KL散度的性质\n",
    "非负性、不对称性、与熵之间的关系、凸性。\n",
    "![](./images/KL散度的性质.png)\n",
    "\n",
    "（4）KL散度的应用例子\n",
    "![](./images/KL散度的应用例子_1.png)"
   ]
  },
  {
   "cell_type": "markdown",
   "metadata": {},
   "source": [
    "# 共轭梯度算法 Conjugate Gradient Method\n",
    "(1) 概念：\n",
    "是一种主要用于求解优化问题的迭代式算法。特别是适用于线性等式(linear equation)和无约束优化问题(unconstrained optimization problem)。\n",
    "\n",
    "(2) "
   ]
  }
 ],
 "metadata": {
  "language_info": {
   "name": "python"
  }
 },
 "nbformat": 4,
 "nbformat_minor": 2
}
